{
 "cells": [
  {
   "cell_type": "markdown",
   "metadata": {},
   "source": [
    "# MODELS"
   ]
  },
  {
   "cell_type": "code",
   "execution_count": 18,
   "metadata": {
    "collapsed": true
   },
   "outputs": [],
   "source": [
    "import pandas as pd\n",
    "import numpy as np\n",
    "from sklearn.preprocessing import MinMaxScaler\n",
    "from sklearn.neighbors import KNeighborsClassifier\n",
    "from sklearn.model_selection import train_test_split\n",
    "from sklearn.model_selection import GridSearchCV\n",
    "import matplotlib.pyplot as plt\n",
    "import seaborn\n",
    "from KNN import organize_and_split, standard_confusion_matrix, get_KNN, get_gridsearch_params, get_true_values, plot_ks\n",
    "filename = '../Data/heart-disease-cleaned.csv'\n"
   ]
  },
  {
   "cell_type": "markdown",
   "metadata": {},
   "source": [
    "### The organize_and_split function splits the data into training and test sets with training=0.7 and test=0.3"
   ]
  },
  {
   "cell_type": "code",
   "execution_count": 19,
   "metadata": {
    "collapsed": false
   },
   "outputs": [],
   "source": [
    "X_train, X_test, y_train, y_test = organize_and_split(filename)"
   ]
  },
  {
   "cell_type": "markdown",
   "metadata": {},
   "source": [
    "### KNN with K = 1"
   ]
  },
  {
   "cell_type": "code",
   "execution_count": 20,
   "metadata": {
    "collapsed": false
   },
   "outputs": [
    {
     "name": "stdout",
     "output_type": "stream",
     "text": [
      "K =  1\n",
      "\n",
      "Accuracy:  0.844444444444\n",
      "\n",
      "Error:  0.155555555556\n",
      "\n",
      "Confusion Matrix:  [[ 35.   8.]\n",
      " [  6.  41.]]\n"
     ]
    }
   ],
   "source": [
    "get_KNN(X_train, X_test, y_train, y_test, n_neighbors=1)"
   ]
  },
  {
   "cell_type": "markdown",
   "metadata": {},
   "source": [
    "### Using GridSearch to fit different parameters to the classifier\n",
    "#### GridSearchCV is a cross validation algorithm. It is passed a parameter grid and performs cross validation test for every possible combination of parameters. In this case, the parameters I'm trying to optimize are the number of neighbors passed to the classifier"
   ]
  },
  {
   "cell_type": "code",
   "execution_count": 23,
   "metadata": {
    "collapsed": true
   },
   "outputs": [],
   "source": [
    "clf = KNeighborsClassifier(n_jobs=-1)"
   ]
  },
  {
   "cell_type": "code",
   "execution_count": 24,
   "metadata": {
    "collapsed": false
   },
   "outputs": [
    {
     "data": {
      "text/plain": [
       "KNeighborsClassifier(algorithm='auto', leaf_size=30, metric='minkowski',\n",
       "           metric_params=None, n_jobs=-1, n_neighbors=5, p=2,\n",
       "           weights='uniform')"
      ]
     },
     "execution_count": 24,
     "metadata": {},
     "output_type": "execute_result"
    }
   ],
   "source": [
    "clf"
   ]
  },
  {
   "cell_type": "code",
   "execution_count": 26,
   "metadata": {
    "collapsed": true
   },
   "outputs": [],
   "source": [
    "gs = get_gridsearch_params(clf, X_train, y_train)"
   ]
  },
  {
   "cell_type": "markdown",
   "metadata": {},
   "source": [
    "### The 'best params' attribute gives the parameters that had the best score"
   ]
  },
  {
   "cell_type": "code",
   "execution_count": 28,
   "metadata": {
    "collapsed": false
   },
   "outputs": [
    {
     "data": {
      "text/plain": [
       "{'n_neighbors': 8}"
      ]
     },
     "execution_count": 28,
     "metadata": {},
     "output_type": "execute_result"
    }
   ],
   "source": [
    "gs.best_params_\n"
   ]
  },
  {
   "cell_type": "markdown",
   "metadata": {},
   "source": [
    "### The 'best score' attribute gives the score of the best parameters"
   ]
  },
  {
   "cell_type": "code",
   "execution_count": 30,
   "metadata": {
    "collapsed": false
   },
   "outputs": [
    {
     "data": {
      "text/plain": [
       "0.81159420289855078"
      ]
     },
     "execution_count": 30,
     "metadata": {},
     "output_type": "execute_result"
    }
   ],
   "source": [
    "gs.best_score_"
   ]
  },
  {
   "cell_type": "markdown",
   "metadata": {},
   "source": [
    "#### Applying this to our test data:"
   ]
  },
  {
   "cell_type": "code",
   "execution_count": 31,
   "metadata": {
    "collapsed": false
   },
   "outputs": [
    {
     "name": "stdout",
     "output_type": "stream",
     "text": [
      "K =  8\n",
      "\n",
      "Accuracy:  0.866666666667\n",
      "\n",
      "Error:  0.133333333333\n",
      "\n",
      "Confusion Matrix:  [[ 31.   2.]\n",
      " [ 10.  47.]]\n"
     ]
    }
   ],
   "source": [
    "get_KNN(X_train, X_test, y_train, y_test, n_neighbors=8)"
   ]
  },
  {
   "cell_type": "markdown",
   "metadata": {},
   "source": [
    "#### We have increased our accuracy by 0.02"
   ]
  },
  {
   "cell_type": "markdown",
   "metadata": {},
   "source": [
    "## However, I decided to try differing values for K on just the test data. "
   ]
  },
  {
   "cell_type": "code",
   "execution_count": 36,
   "metadata": {
    "collapsed": false
   },
   "outputs": [
    {
     "name": "stdout",
     "output_type": "stream",
     "text": [
      "1 0.844444444444\n",
      "2 0.833333333333\n",
      "3 0.9\n",
      "4 0.844444444444\n",
      "5 0.888888888889\n",
      "6 0.888888888889\n",
      "7 0.888888888889\n",
      "8 0.866666666667\n",
      "9 0.877777777778\n",
      "10 0.866666666667\n",
      "11 0.855555555556\n",
      "12 0.855555555556\n",
      "13 0.855555555556\n",
      "14 0.866666666667\n",
      "15 0.866666666667\n",
      "16 0.866666666667\n",
      "17 0.855555555556\n",
      "18 0.844444444444\n",
      "19 0.844444444444\n"
     ]
    },
    {
     "data": {
      "image/png": "[encoded data removed]",
      "text/plain": [
       "<matplotlib.figure.Figure at 0x1154a0190>"
      ]
     },
     "metadata": {},
     "output_type": "display_data"
    }
   ],
   "source": [
    "model = KNeighborsClassifier\n",
    "plot_ks(model, filename)"
   ]
  },
  {
   "cell_type": "markdown",
   "metadata": {},
   "source": [
    "### The plot shows the accuracy score against the values for K\n",
    "#### We can see that the optimal value for K for our test data is 3, where we get an accuracy score of 0.9. "
   ]
  },
  {
   "cell_type": "code",
   "execution_count": 37,
   "metadata": {
    "collapsed": false
   },
   "outputs": [
    {
     "name": "stdout",
     "output_type": "stream",
     "text": [
      "K =  3\n",
      "\n",
      "Accuracy:  0.9\n",
      "\n",
      "Error:  0.1\n",
      "\n",
      "Confusion Matrix:  [[ 34.   2.]\n",
      " [  7.  47.]]\n"
     ]
    }
   ],
   "source": [
    "get_KNN(X_train, X_test, y_train, y_test, n_neighbors=3)"
   ]
  },
  {
   "cell_type": "markdown",
   "metadata": {},
   "source": [
    "#### When predicting outcomes, it is important to take into consideration the generalizability of our models. Cross validation is done on our training sets to optimize for the general cases of the data. In this case, the cross validation revealed that the optimal value of K for the training data was 8. Our test data, however, was more optimal for K = 3. If we randomly split the data into different training and test sets, we will naturally have different optimal values for K. This is why it is important to generalize our models to best predict new incoming data"
   ]
  },
  {
   "cell_type": "markdown",
   "metadata": {},
   "source": [
    "##### I used the sci-kit learn library for all modeling, pandas and numpy for all data cleaning and calculations\n",
    "##### When cleaning the data, I checked all values for all columns. When I found missing data, I determined that it would not be detrimental to the integrity of the data to delete the instances that had missing data. In this case we were not interested in predicting the severity of the diagnosis, just that there was one, so I changed the diagnosis column to either yes (1) or no (0). When it came to modelling, it was necessary to keep the correct values for the categorical variables to create dummy variables.\n",
    "##### Normalization was necessary. Because KNN uses a distance metric to predict, if we did not scale our data, the variables with the higher ranges would distort prediction of the algorithm"
   ]
  },
  {
   "cell_type": "markdown",
   "metadata": {},
   "source": [
    "#### I received information about the dataset from here: http://archive.ics.uci.edu/ml/datasets/Heart+Disease"
   ]
  },
  {
   "cell_type": "code",
   "execution_count": null,
   "metadata": {
    "collapsed": true
   },
   "outputs": [],
   "source": []
  }
 ],
 "metadata": {
  "anaconda-cloud": {},
  "kernelspec": {
   "display_name": "Python [conda root]",
   "language": "python",
   "name": "conda-root-py"
  },
  "language_info": {
   "codemirror_mode": {
    "name": "ipython",
    "version": 2
   },
   "file_extension": ".py",
   "mimetype": "text/x-python",
   "name": "python",
   "nbconvert_exporter": "python",
   "pygments_lexer": "ipython2",
   "version": "2.7.12"
  }
 },
 "nbformat": 4,
 "nbformat_minor": 1
}
